{
 "cells": [
  {
   "cell_type": "code",
   "execution_count": null,
   "id": "a219b683",
   "metadata": {},
   "outputs": [],
   "source": [
    "# The purpose of this code is to codify Marvel Champions to practice my coding skills and conduct data analysis on the game\n",
    "\n",
    "## Defining Global Parameters\n",
    "\n",
    "block = 4        # later this will be defined as block = avg_villain_attack + avg villain_ boost "
   ]
  },
  {
   "cell_type": "code",
   "execution_count": null,
   "id": "b8bdf87c",
   "metadata": {},
   "outputs": [],
   "source": [
    "class ally:\n",
    "    def __init__(self, name, aspect, printed_cost, true_cost, thwart, attack, hp, traits, textbox):\n",
    "        self.name = name\n",
    "        self.aspect = aspect\n",
    "        self.printed_cost = printed_cost\n",
    "        self.true_cost = true_cost\n",
    "        self.thwart = thwart\n",
    "        self.attack = attack\n",
    "        self.hp = hp\n",
    "        self.traits = traits  # Store traits as a list\n",
    "\n",
    "        self.textbox = textbox\n",
    "\n",
    "    def add_trait(self, trait):\n",
    "        self.traits.append(trait)\n",
    "\n",
    "    def remove_trait(self, trait):\n",
    "        if trait in self.traits:\n",
    "            self.traits.remove(trait)\n",
    "\n",
    "    def has_trait(self, trait):\n",
    "        return trait in self.traits\n",
    "\n",
    "    def display(self):\n",
    "        print(f\"name: {self.name}\")\n",
    "        print(f\"aspect: {self.aspect}\")\n",
    "        print(f\"printed cost: {self.printed_cost}\")\n",
    "        print(f\"true cost: {self.true_cost}\")\n",
    "        print(f\"thwart: {self.thwart}\")\n",
    "        print(f\"attack: {self.attack}\")\n",
    "        print(f\"hp: {self.hp}\")\n",
    "        print(f\"traits: {', '.join(self.traits)}\")  # Join traits list into a comma-separated string\n",
    "        print(f\"textbox: {self.textbox}\")"
   ]
  },
  {
   "cell_type": "code",
   "execution_count": null,
   "id": "55a64cab",
   "metadata": {},
   "outputs": [],
   "source": [
    "class attack:\n",
    "    def __init__(self, name, aspect, printed_cost, true_cost, thwart, attack, hp, traits, textbox):\n",
    "        self.name = name\n",
    "        self.aspect = aspect\n",
    "        self.printed_cost = printed_cost\n",
    "        self.true_cost = true_cost\n",
    "        self.thwart = thwart\n",
    "        self.attack = attack\n",
    "        self.hp = hp\n",
    "        self.traits = traits  # Store traits as a list\n",
    "\n",
    "        self.textbox = textbox\n",
    "\n",
    "    def add_trait(self, trait):\n",
    "        self.traits.append(trait)\n",
    "\n",
    "    def remove_trait(self, trait):\n",
    "        if trait in self.traits:\n",
    "            self.traits.remove(trait)\n",
    "\n",
    "    def has_trait(self, trait):\n",
    "        return trait in self.traits\n",
    "\n",
    "    def display(self):\n",
    "        print(f\"name: {self.name}\")\n",
    "        print(f\"aspect: {self.aspect}\")\n",
    "        print(f\"printed cost: {self.printed_cost}\")\n",
    "        print(f\"true cost: {self.true_cost}\")\n",
    "        print(f\"thwart: {self.thwart}\")\n",
    "        print(f\"attack: {self.attack}\")\n",
    "        print(f\"hp: {self.hp}\")\n",
    "        print(f\"traits: {', '.join(self.traits)}\")  # Join traits list into a comma-separated string\n",
    "        print(f\"textbox: {self.textbox}\")"
   ]
  },
  {
   "cell_type": "code",
   "execution_count": null,
   "id": "0a94b55c",
   "metadata": {
    "scrolled": true
   },
   "outputs": [],
   "source": [
    "# Instantiating the ally object\n",
    "#                    name, aspect, printed_cost, true_cost, thwart, attack, hp, traits, textbox\n",
    "nick_fury_ally = ally(\"Nick Fury\",'basic', 4, 5, 2, 2, 3, [\"S.H.I.E.L.D.\", \"Spy\"], r\"Forced Response: After Nick Fury enters play, choose one: remove 2 threat from a scheme, draw 3 cards, or deal 4 damage to an enemy. At the end of the round, if Nick Fury is still in play, discard him.\")\n",
    "eros_ally = ally(\"Eros\", 'justice', 2, 3, 2, 1, 2, ['Guardian'], r'After you play Eros from your hand, confuse a minion for each  resource you used to pay for him.')\n",
    "white_tiger_ally = ally(\"White Tiger\", 'leadership', 3, 4-1.5, 2, 2, 2, ['Avenger'], r\"Response: After you play White Tiger from your hand, draw X cards (to a maximum of three), where X is equal to the villain's stage number. If the villain has no stage number, draw 1 card.\")\n",
    "\n",
    "# Adding, removing, and checking traits\n",
    "#         nick_fury_ally.add_trait(\"Avenger\")\n",
    "#         nick_fury_ally.remove_trait(\"Spy\")\n",
    "#         print(nick_fury_ally.has_trait(\"S.H.I.E.L.D.\"))  # Output: True\n",
    "#         print(nick_fury_ally.has_trait(\"Spy\"))  # Output: False\n",
    "\n",
    "# Displaying the ally information\n",
    "nick_fury_ally.display()\n",
    "eros_ally.display()\n",
    "white_tiger_ally.display()"
   ]
  },
  {
   "cell_type": "code",
   "execution_count": null,
   "id": "b79bc72c",
   "metadata": {},
   "outputs": [],
   "source": [
    "def ally_efficiency(card):\n",
    "    if card.attack > card.thwart: \n",
    "        max_efficiency = (card.attack * (card.hp - 1) + block) / card.true_cost\n",
    "        min_efficiency = (card.attack + block) / card.true_cost\n",
    "    else: \n",
    "        max_efficiency = (card.thwart * (card.hp-1) + block )/ card.true_cost\n",
    "        min_efficiency = (card.thwart + block) / card.true_cost\n",
    "    # report average efficiency    \n",
    "    avg_efficiency = (max_efficiency + min_efficiency) / 2\n",
    "    \n",
    "    return avg_efficiency"
   ]
  },
  {
   "cell_type": "code",
   "execution_count": null,
   "id": "74ea065b",
   "metadata": {},
   "outputs": [],
   "source": [
    "eros_eff = ally_efficiency(eros_ally)\n",
    "print(eros_eff)\n",
    "white_tiger_eff = ally_efficiency(white_tiger_ally)\n",
    "print(white_tiger_eff)"
   ]
  },
  {
   "cell_type": "code",
   "execution_count": null,
   "id": "204724c1",
   "metadata": {},
   "outputs": [],
   "source": []
  }
 ],
 "metadata": {
  "kernelspec": {
   "display_name": "Python 3 (ipykernel)",
   "language": "python",
   "name": "python3"
  },
  "language_info": {
   "codemirror_mode": {
    "name": "ipython",
    "version": 3
   },
   "file_extension": ".py",
   "mimetype": "text/x-python",
   "name": "python",
   "nbconvert_exporter": "python",
   "pygments_lexer": "ipython3",
   "version": "3.11.7"
  }
 },
 "nbformat": 4,
 "nbformat_minor": 5
}
